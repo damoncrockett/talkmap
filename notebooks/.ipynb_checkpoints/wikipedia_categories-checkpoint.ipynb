{
 "cells": [
  {
   "cell_type": "code",
   "execution_count": 1,
   "id": "7aebced8",
   "metadata": {
    "scrolled": false
   },
   "outputs": [],
   "source": [
    "import requests\n",
    "from bs4 import BeautifulSoup\n",
    "\n",
    "url = 'https://en.wikipedia.org/wiki/Wikipedia:Contents/Categories'\n",
    "response = requests.get(url)\n",
    "soup = BeautifulSoup(response.content, 'html.parser')\n",
    "category_links = soup.find_all('a', href=lambda href: href and href.startswith('/wiki/Category:'))\n",
    "categories = [link['href'].split(':')[-1] for link in category_links]"
   ]
  },
  {
   "cell_type": "code",
   "execution_count": 2,
   "id": "2e2d473c",
   "metadata": {},
   "outputs": [
    {
     "data": {
      "text/plain": [
       "787"
      ]
     },
     "execution_count": 2,
     "metadata": {},
     "output_type": "execute_result"
    }
   ],
   "source": [
    "len(categories)"
   ]
  },
  {
   "cell_type": "code",
   "execution_count": 3,
   "id": "de3e7c6e",
   "metadata": {},
   "outputs": [],
   "source": [
    "categories = [item.replace(\"_\",\" \") for item in categories]"
   ]
  },
  {
   "cell_type": "code",
   "execution_count": 4,
   "id": "34d5a0ae",
   "metadata": {},
   "outputs": [],
   "source": [
    "from urllib.parse import unquote"
   ]
  },
  {
   "cell_type": "code",
   "execution_count": 5,
   "id": "979b2501",
   "metadata": {},
   "outputs": [],
   "source": [
    "categories = [unquote(item).lower() for item in categories]"
   ]
  },
  {
   "cell_type": "code",
   "execution_count": 6,
   "id": "2a28cbdb",
   "metadata": {
    "scrolled": false
   },
   "outputs": [],
   "source": [
    "categories = categories[:-2]"
   ]
  },
  {
   "cell_type": "code",
   "execution_count": 7,
   "id": "dfce3d3d",
   "metadata": {},
   "outputs": [],
   "source": [
    "categories = [item for item in categories if not 'people by' in item]"
   ]
  },
  {
   "cell_type": "code",
   "execution_count": 8,
   "id": "a3b9c759",
   "metadata": {},
   "outputs": [],
   "source": [
    "categories = [item for item in categories if not 'list' in item]"
   ]
  },
  {
   "cell_type": "code",
   "execution_count": 9,
   "id": "7ccca404",
   "metadata": {},
   "outputs": [],
   "source": [
    "from collections import Counter\n",
    "import pandas as pd"
   ]
  },
  {
   "cell_type": "code",
   "execution_count": 10,
   "id": "7f50bad1",
   "metadata": {},
   "outputs": [],
   "source": [
    "stopwords = [\n",
    "    'a', 'about', 'above', 'after', 'again', 'against', 'all', 'am', 'an', 'and', 'any', 'are', \"aren't\", 'as', 'at',\n",
    "    'be', 'because', 'been', 'before', 'being', 'below', 'between', 'both', 'but', 'by', \"can't\", 'cannot', 'could',\n",
    "    \"couldn't\", 'did', \"didn't\", 'do', 'does', \"doesn't\", 'doing', \"don't\", 'down', 'during', 'each', 'few', 'for',\n",
    "    'from', 'further', 'had', \"hadn't\", 'has', \"hasn't\", 'have', \"haven't\", 'having', 'he', \"he'd\", \"he'll\", \"he's\",\n",
    "    'her', 'here', \"here's\", 'hers', 'herself', 'him', 'himself', 'his', 'how', \"how's\", 'i', \"i'd\", \"i'll\", \"i'm\",\n",
    "    \"i've\", 'if', 'in', 'into', 'is', \"isn't\", 'it', \"it's\", 'its', 'itself', \"let's\", 'me', 'more', 'most', \"mustn't\",\n",
    "    'my', 'myself', 'no', 'nor', 'not', 'of', 'off', 'on', 'once', 'only', 'or', 'other', 'ought', 'our', 'ours',\n",
    "    'ourselves', 'out', 'over', 'own', 'same', \"shan't\", 'she', \"she'd\", \"she'll\", \"she's\", 'should', \"shouldn't\", 'so',\n",
    "    'some', 'such', 'than', 'that', \"that's\", 'the', 'their', 'theirs', 'them', 'themselves', 'then', 'there',\n",
    "    \"there's\", 'these', 'they', \"they'd\", \"they'll\", \"they're\", \"they've\", 'this', 'those', 'through', 'to', 'too',\n",
    "    'under', 'until', 'up', 'very', 'was', \"wasn't\", 'we', \"we'd\", \"we'll\", \"we're\", \"we've\", 'were', \"weren't\", 'what',\n",
    "    \"what's\", 'when', \"when's\", 'where', \"where's\", 'which', 'while', 'who', \"who's\", 'whom', 'why', \"why's\", 'with',\n",
    "    \"won't\", 'would', \"wouldn't\", 'you', \"you'd\", \"you'll\", \"you're\", \"you've\", 'your', 'yours', 'yourself', 'yourselves'\n",
    "]\n"
   ]
  },
  {
   "cell_type": "code",
   "execution_count": 11,
   "id": "cc8dcf8a",
   "metadata": {
    "scrolled": false
   },
   "outputs": [],
   "source": [
    "#Counter([i for sublist in [item.split(\" \") for item in categories] for i in sublist]).most_common()"
   ]
  },
  {
   "cell_type": "code",
   "execution_count": 12,
   "id": "42fc122b",
   "metadata": {},
   "outputs": [],
   "source": [
    "allwords = set([i for sublist in [item.split(\" \") for item in categories] for i in sublist])"
   ]
  },
  {
   "cell_type": "code",
   "execution_count": 13,
   "id": "8bdc1c37",
   "metadata": {},
   "outputs": [],
   "source": [
    "allwords = [word for word in allwords if word not in stopwords]"
   ]
  },
  {
   "cell_type": "code",
   "execution_count": 15,
   "id": "89ec171d",
   "metadata": {},
   "outputs": [],
   "source": [
    "shortest_entries = []\n",
    "for word in allwords:\n",
    "    tmp = [item for item in categories if word in item]\n",
    "    shortest_entry = min(tmp, key=len)\n",
    "    shortest_entries.append(shortest_entry)"
   ]
  },
  {
   "cell_type": "code",
   "execution_count": 20,
   "id": "a1f8e4c3",
   "metadata": {
    "scrolled": false
   },
   "outputs": [],
   "source": [
    "background_map = set(shortest_entries)"
   ]
  },
  {
   "cell_type": "code",
   "execution_count": 22,
   "id": "021e6f59",
   "metadata": {},
   "outputs": [
    {
     "data": {
      "text/plain": [
       "612"
      ]
     },
     "execution_count": 22,
     "metadata": {},
     "output_type": "execute_result"
    }
   ],
   "source": [
    "len(background_map)"
   ]
  },
  {
   "cell_type": "code",
   "execution_count": 26,
   "id": "af8a7923",
   "metadata": {},
   "outputs": [],
   "source": [
    "background_map = [item for item in background_map if not 'by' in item]"
   ]
  },
  {
   "cell_type": "code",
   "execution_count": 31,
   "id": "56259204",
   "metadata": {},
   "outputs": [],
   "source": [
    "background_map = [item for item in background_map if not 'history of ' in item]"
   ]
  },
  {
   "cell_type": "code",
   "execution_count": 36,
   "id": "23c71f66",
   "metadata": {
    "scrolled": false
   },
   "outputs": [],
   "source": [
    "background_map = set([item for item in background_map if not 'philosophical' in item])"
   ]
  },
  {
   "cell_type": "code",
   "execution_count": 38,
   "id": "303547d9",
   "metadata": {},
   "outputs": [
    {
     "data": {
      "text/plain": [
       "589"
      ]
     },
     "execution_count": 38,
     "metadata": {},
     "output_type": "execute_result"
    }
   ],
   "source": [
    "len(background_map)"
   ]
  },
  {
   "cell_type": "code",
   "execution_count": null,
   "id": "aba47260",
   "metadata": {},
   "outputs": [],
   "source": []
  }
 ],
 "metadata": {
  "kernelspec": {
   "display_name": "Python 3 (ipykernel)",
   "language": "python",
   "name": "python3"
  },
  "language_info": {
   "codemirror_mode": {
    "name": "ipython",
    "version": 3
   },
   "file_extension": ".py",
   "mimetype": "text/x-python",
   "name": "python",
   "nbconvert_exporter": "python",
   "pygments_lexer": "ipython3",
   "version": "3.10.4"
  }
 },
 "nbformat": 4,
 "nbformat_minor": 5
}
